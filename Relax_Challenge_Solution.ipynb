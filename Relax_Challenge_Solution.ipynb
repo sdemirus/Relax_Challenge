{
  "nbformat": 4,
  "nbformat_minor": 0,
  "metadata": {
    "colab": {
      "provenance": [],
      "authorship_tag": "ABX9TyOD3k5mbwDofPtBTOebS0/A",
      "include_colab_link": true
    },
    "kernelspec": {
      "name": "python3",
      "display_name": "Python 3"
    },
    "language_info": {
      "name": "python"
    }
  },
  "cells": [
    {
      "cell_type": "markdown",
      "metadata": {
        "id": "view-in-github",
        "colab_type": "text"
      },
      "source": [
        "<a href=\"https://colab.research.google.com/github/sdemirus/Relax_Challenge/blob/main/Relax_Challenge_Solution.ipynb\" target=\"_parent\"><img src=\"https://colab.research.google.com/assets/colab-badge.svg\" alt=\"Open In Colab\"/></a>"
      ]
    },
    {
      "cell_type": "markdown",
      "source": [
        "# Relax Challenge Solution\n",
        "\n",
        "This notebook provides my analysis and conclusions to the Relax Data Science Challenge. Here is the narrative that outlines the challenge:\n",
        "\n",
        "The data is available as two attached CSV files:\n",
        "\n",
        "takehome_user_engagement. csv\n",
        "\n",
        "takehome_users . csv\n",
        "\n",
        "The data has the following two tables:\n",
        "\n",
        "1 - A user table ( \"takehome_users\" ) with data on 12,000 users who signed up for the product in the last two years. This table includes:\n",
        "\n",
        "* name: the user's name\n",
        "* object_id: the user's id\n",
        "* email: email address\n",
        "* creation_source: how their account was created. This takes on one of 5 values:\n",
        "  * PERSONAL_PROJECTS: invited to join another user's personal workspace\n",
        "  * GUEST_INVITE: invited to an organization as a guest (limited permissions)\n",
        "  * ORG_INVITE: invited to an organization (as a full member)\n",
        "  * SIGNUP: signed up via the website\n",
        "  * SIGNUP_GOOGLE_AUTH: signed up using Google Authentication (using a Google email account for their login id)\n",
        "* creation_time: when they created their account\n",
        "last_session_creation_time: unix timestamp of last login\n",
        "* opted_in_to_mailing_list: whether they have opted into receiving marketing emails\n",
        "* enabled_for_marketing_drip: whether they are on the regular marketing email drip\n",
        "* org_id: the organization (group of users) they belong to\n",
        "* invited_by_user_id: which user invited them to join (if applicable).\n",
        "\n",
        "2 - A usage summary table ( \"takehome_user_engagement\" ) that has a row for each day that a user logged into the product.\n",
        "\n",
        "Defining an \"adopted user\" as a user who has logged into the product on three separate days in at least one seven-day period , identify which factors predict future user adoption.\n",
        "\n",
        "We suggest spending 1-2 hours on this, but you're welcome to spend more or less. Please send us a brief writeup of your findings (the more concise, the better -- no more than one page), along with any summary tables, graphs, code, or queries that can help us understand your approach. Please note any factors you considered or investigation you did, even if they did not pan out. Feel free to identify any further research or data you think would be valuable."
      ],
      "metadata": {
        "id": "va-Huvhw9rbO"
      }
    },
    {
      "cell_type": "markdown",
      "source": [
        "# Solution:\n",
        "To analyze the data according to the questions in the Relax Data Science Challenge, we need to identify adopted users (those who have logged in at least 3 times within any 7-day period) and determine which factors predict future user adoption.\n",
        "\n",
        "Steps:\n",
        "\n",
        "1- Load and Inspect Data:\n",
        "\n",
        "* Load the takehome_users.csv and takehome_user_engagement.csv files.\n",
        "\n",
        "* Inspect the structure and contents of both datasets.\n",
        "\n",
        "2- Define Adopted Users:\n",
        "\n",
        "* From the takehome_user_engagement.csv, identify users who have logged in on at least 3 separate days within any 7-day window.\n",
        "\n",
        "* Tag these users as \"adopted users.\"\n",
        "\n",
        "3- Merge Data:\n",
        "\n",
        "* Merge the engagement data with the user data (takehome_users.csv), keeping relevant user details (e.g., creation_source, org_id, etc.).\n",
        "\n",
        "4- Feature Engineering:\n",
        "\n",
        "* Create new features based on the user data (e.g., account_age, creation_source category encoding, etc.).\n",
        "\n",
        "* Investigate which features might impact user adoption.\n",
        "\n",
        "5- Modeling:\n",
        "\n",
        "* Use a classification algorithm (e.g., Logistic Regression, Random Forest) to predict adoption based on the features.\n",
        "\n",
        "* Evaluate model performance.\n",
        "\n",
        "6- Summarize Findings:\n",
        "\n",
        "* Visualize important features, such as creation_source, account_age, and logins over time.\n",
        "\n",
        "* Provide a concise report on the findings."
      ],
      "metadata": {
        "id": "CqdY3uSu--f_"
      }
    },
    {
      "cell_type": "code",
      "source": [
        "# Import necessary libraries\n",
        "import pandas as pd\n",
        "import numpy as np\n",
        "from datetime import timedelta\n",
        "import matplotlib.pyplot as plt\n",
        "import seaborn as sns\n",
        "\n",
        "from sklearn.model_selection import train_test_split\n",
        "from sklearn.ensemble import RandomForestClassifier\n",
        "from sklearn.metrics import accuracy_score, classification_report\n",
        "from sklearn.ensemble import RandomForestClassifier\n",
        "from sklearn.model_selection import GridSearchCV"
      ],
      "metadata": {
        "id": "gAnUfx-o-oVl"
      },
      "execution_count": 126,
      "outputs": []
    },
    {
      "cell_type": "code",
      "source": [
        "# Load data\n",
        "user_data = pd.read_csv('/content/takehome_users.csv', encoding='ISO-8859-1')\n",
        "engagement_data = pd.read_csv('/content/takehome_user_engagement.csv')"
      ],
      "metadata": {
        "id": "7QwO3Szn-ob7"
      },
      "execution_count": 98,
      "outputs": []
    },
    {
      "cell_type": "code",
      "source": [
        "user_data.head()"
      ],
      "metadata": {
        "colab": {
          "base_uri": "https://localhost:8080/",
          "height": 313
        },
        "id": "Q_8nuPorBmBg",
        "outputId": "f6c9ea84-4060-4c1d-8e34-2ad17b533ac1"
      },
      "execution_count": 99,
      "outputs": [
        {
          "output_type": "execute_result",
          "data": {
            "text/plain": [
              "   object_id        creation_time               name  \\\n",
              "0          1  2014-04-22 03:53:30     Clausen August   \n",
              "1          2  2013-11-15 03:45:04      Poole Matthew   \n",
              "2          3  2013-03-19 23:14:52  Bottrill Mitchell   \n",
              "3          4  2013-05-21 08:09:28    Clausen Nicklas   \n",
              "4          5  2013-01-17 10:14:20          Raw Grace   \n",
              "\n",
              "                        email creation_source  last_session_creation_time  \\\n",
              "0    AugustCClausen@yahoo.com    GUEST_INVITE                1.398139e+09   \n",
              "1      MatthewPoole@gustr.com      ORG_INVITE                1.396238e+09   \n",
              "2  MitchellBottrill@gustr.com      ORG_INVITE                1.363735e+09   \n",
              "3   NicklasSClausen@yahoo.com    GUEST_INVITE                1.369210e+09   \n",
              "4          GraceRaw@yahoo.com    GUEST_INVITE                1.358850e+09   \n",
              "\n",
              "   opted_in_to_mailing_list  enabled_for_marketing_drip  org_id  \\\n",
              "0                         1                           0      11   \n",
              "1                         0                           0       1   \n",
              "2                         0                           0      94   \n",
              "3                         0                           0       1   \n",
              "4                         0                           0     193   \n",
              "\n",
              "   invited_by_user_id  \n",
              "0             10803.0  \n",
              "1               316.0  \n",
              "2              1525.0  \n",
              "3              5151.0  \n",
              "4              5240.0  "
            ],
            "text/html": [
              "\n",
              "  <div id=\"df-81ff13e6-3858-4e69-86f0-5e4e5b7ce52e\" class=\"colab-df-container\">\n",
              "    <div>\n",
              "<style scoped>\n",
              "    .dataframe tbody tr th:only-of-type {\n",
              "        vertical-align: middle;\n",
              "    }\n",
              "\n",
              "    .dataframe tbody tr th {\n",
              "        vertical-align: top;\n",
              "    }\n",
              "\n",
              "    .dataframe thead th {\n",
              "        text-align: right;\n",
              "    }\n",
              "</style>\n",
              "<table border=\"1\" class=\"dataframe\">\n",
              "  <thead>\n",
              "    <tr style=\"text-align: right;\">\n",
              "      <th></th>\n",
              "      <th>object_id</th>\n",
              "      <th>creation_time</th>\n",
              "      <th>name</th>\n",
              "      <th>email</th>\n",
              "      <th>creation_source</th>\n",
              "      <th>last_session_creation_time</th>\n",
              "      <th>opted_in_to_mailing_list</th>\n",
              "      <th>enabled_for_marketing_drip</th>\n",
              "      <th>org_id</th>\n",
              "      <th>invited_by_user_id</th>\n",
              "    </tr>\n",
              "  </thead>\n",
              "  <tbody>\n",
              "    <tr>\n",
              "      <th>0</th>\n",
              "      <td>1</td>\n",
              "      <td>2014-04-22 03:53:30</td>\n",
              "      <td>Clausen August</td>\n",
              "      <td>AugustCClausen@yahoo.com</td>\n",
              "      <td>GUEST_INVITE</td>\n",
              "      <td>1.398139e+09</td>\n",
              "      <td>1</td>\n",
              "      <td>0</td>\n",
              "      <td>11</td>\n",
              "      <td>10803.0</td>\n",
              "    </tr>\n",
              "    <tr>\n",
              "      <th>1</th>\n",
              "      <td>2</td>\n",
              "      <td>2013-11-15 03:45:04</td>\n",
              "      <td>Poole Matthew</td>\n",
              "      <td>MatthewPoole@gustr.com</td>\n",
              "      <td>ORG_INVITE</td>\n",
              "      <td>1.396238e+09</td>\n",
              "      <td>0</td>\n",
              "      <td>0</td>\n",
              "      <td>1</td>\n",
              "      <td>316.0</td>\n",
              "    </tr>\n",
              "    <tr>\n",
              "      <th>2</th>\n",
              "      <td>3</td>\n",
              "      <td>2013-03-19 23:14:52</td>\n",
              "      <td>Bottrill Mitchell</td>\n",
              "      <td>MitchellBottrill@gustr.com</td>\n",
              "      <td>ORG_INVITE</td>\n",
              "      <td>1.363735e+09</td>\n",
              "      <td>0</td>\n",
              "      <td>0</td>\n",
              "      <td>94</td>\n",
              "      <td>1525.0</td>\n",
              "    </tr>\n",
              "    <tr>\n",
              "      <th>3</th>\n",
              "      <td>4</td>\n",
              "      <td>2013-05-21 08:09:28</td>\n",
              "      <td>Clausen Nicklas</td>\n",
              "      <td>NicklasSClausen@yahoo.com</td>\n",
              "      <td>GUEST_INVITE</td>\n",
              "      <td>1.369210e+09</td>\n",
              "      <td>0</td>\n",
              "      <td>0</td>\n",
              "      <td>1</td>\n",
              "      <td>5151.0</td>\n",
              "    </tr>\n",
              "    <tr>\n",
              "      <th>4</th>\n",
              "      <td>5</td>\n",
              "      <td>2013-01-17 10:14:20</td>\n",
              "      <td>Raw Grace</td>\n",
              "      <td>GraceRaw@yahoo.com</td>\n",
              "      <td>GUEST_INVITE</td>\n",
              "      <td>1.358850e+09</td>\n",
              "      <td>0</td>\n",
              "      <td>0</td>\n",
              "      <td>193</td>\n",
              "      <td>5240.0</td>\n",
              "    </tr>\n",
              "  </tbody>\n",
              "</table>\n",
              "</div>\n",
              "    <div class=\"colab-df-buttons\">\n",
              "\n",
              "  <div class=\"colab-df-container\">\n",
              "    <button class=\"colab-df-convert\" onclick=\"convertToInteractive('df-81ff13e6-3858-4e69-86f0-5e4e5b7ce52e')\"\n",
              "            title=\"Convert this dataframe to an interactive table.\"\n",
              "            style=\"display:none;\">\n",
              "\n",
              "  <svg xmlns=\"http://www.w3.org/2000/svg\" height=\"24px\" viewBox=\"0 -960 960 960\">\n",
              "    <path d=\"M120-120v-720h720v720H120Zm60-500h600v-160H180v160Zm220 220h160v-160H400v160Zm0 220h160v-160H400v160ZM180-400h160v-160H180v160Zm440 0h160v-160H620v160ZM180-180h160v-160H180v160Zm440 0h160v-160H620v160Z\"/>\n",
              "  </svg>\n",
              "    </button>\n",
              "\n",
              "  <style>\n",
              "    .colab-df-container {\n",
              "      display:flex;\n",
              "      gap: 12px;\n",
              "    }\n",
              "\n",
              "    .colab-df-convert {\n",
              "      background-color: #E8F0FE;\n",
              "      border: none;\n",
              "      border-radius: 50%;\n",
              "      cursor: pointer;\n",
              "      display: none;\n",
              "      fill: #1967D2;\n",
              "      height: 32px;\n",
              "      padding: 0 0 0 0;\n",
              "      width: 32px;\n",
              "    }\n",
              "\n",
              "    .colab-df-convert:hover {\n",
              "      background-color: #E2EBFA;\n",
              "      box-shadow: 0px 1px 2px rgba(60, 64, 67, 0.3), 0px 1px 3px 1px rgba(60, 64, 67, 0.15);\n",
              "      fill: #174EA6;\n",
              "    }\n",
              "\n",
              "    .colab-df-buttons div {\n",
              "      margin-bottom: 4px;\n",
              "    }\n",
              "\n",
              "    [theme=dark] .colab-df-convert {\n",
              "      background-color: #3B4455;\n",
              "      fill: #D2E3FC;\n",
              "    }\n",
              "\n",
              "    [theme=dark] .colab-df-convert:hover {\n",
              "      background-color: #434B5C;\n",
              "      box-shadow: 0px 1px 3px 1px rgba(0, 0, 0, 0.15);\n",
              "      filter: drop-shadow(0px 1px 2px rgba(0, 0, 0, 0.3));\n",
              "      fill: #FFFFFF;\n",
              "    }\n",
              "  </style>\n",
              "\n",
              "    <script>\n",
              "      const buttonEl =\n",
              "        document.querySelector('#df-81ff13e6-3858-4e69-86f0-5e4e5b7ce52e button.colab-df-convert');\n",
              "      buttonEl.style.display =\n",
              "        google.colab.kernel.accessAllowed ? 'block' : 'none';\n",
              "\n",
              "      async function convertToInteractive(key) {\n",
              "        const element = document.querySelector('#df-81ff13e6-3858-4e69-86f0-5e4e5b7ce52e');\n",
              "        const dataTable =\n",
              "          await google.colab.kernel.invokeFunction('convertToInteractive',\n",
              "                                                    [key], {});\n",
              "        if (!dataTable) return;\n",
              "\n",
              "        const docLinkHtml = 'Like what you see? Visit the ' +\n",
              "          '<a target=\"_blank\" href=https://colab.research.google.com/notebooks/data_table.ipynb>data table notebook</a>'\n",
              "          + ' to learn more about interactive tables.';\n",
              "        element.innerHTML = '';\n",
              "        dataTable['output_type'] = 'display_data';\n",
              "        await google.colab.output.renderOutput(dataTable, element);\n",
              "        const docLink = document.createElement('div');\n",
              "        docLink.innerHTML = docLinkHtml;\n",
              "        element.appendChild(docLink);\n",
              "      }\n",
              "    </script>\n",
              "  </div>\n",
              "\n",
              "\n",
              "<div id=\"df-3f43c8b9-86e2-48d4-a70b-40f21094c511\">\n",
              "  <button class=\"colab-df-quickchart\" onclick=\"quickchart('df-3f43c8b9-86e2-48d4-a70b-40f21094c511')\"\n",
              "            title=\"Suggest charts\"\n",
              "            style=\"display:none;\">\n",
              "\n",
              "<svg xmlns=\"http://www.w3.org/2000/svg\" height=\"24px\"viewBox=\"0 0 24 24\"\n",
              "     width=\"24px\">\n",
              "    <g>\n",
              "        <path d=\"M19 3H5c-1.1 0-2 .9-2 2v14c0 1.1.9 2 2 2h14c1.1 0 2-.9 2-2V5c0-1.1-.9-2-2-2zM9 17H7v-7h2v7zm4 0h-2V7h2v10zm4 0h-2v-4h2v4z\"/>\n",
              "    </g>\n",
              "</svg>\n",
              "  </button>\n",
              "\n",
              "<style>\n",
              "  .colab-df-quickchart {\n",
              "      --bg-color: #E8F0FE;\n",
              "      --fill-color: #1967D2;\n",
              "      --hover-bg-color: #E2EBFA;\n",
              "      --hover-fill-color: #174EA6;\n",
              "      --disabled-fill-color: #AAA;\n",
              "      --disabled-bg-color: #DDD;\n",
              "  }\n",
              "\n",
              "  [theme=dark] .colab-df-quickchart {\n",
              "      --bg-color: #3B4455;\n",
              "      --fill-color: #D2E3FC;\n",
              "      --hover-bg-color: #434B5C;\n",
              "      --hover-fill-color: #FFFFFF;\n",
              "      --disabled-bg-color: #3B4455;\n",
              "      --disabled-fill-color: #666;\n",
              "  }\n",
              "\n",
              "  .colab-df-quickchart {\n",
              "    background-color: var(--bg-color);\n",
              "    border: none;\n",
              "    border-radius: 50%;\n",
              "    cursor: pointer;\n",
              "    display: none;\n",
              "    fill: var(--fill-color);\n",
              "    height: 32px;\n",
              "    padding: 0;\n",
              "    width: 32px;\n",
              "  }\n",
              "\n",
              "  .colab-df-quickchart:hover {\n",
              "    background-color: var(--hover-bg-color);\n",
              "    box-shadow: 0 1px 2px rgba(60, 64, 67, 0.3), 0 1px 3px 1px rgba(60, 64, 67, 0.15);\n",
              "    fill: var(--button-hover-fill-color);\n",
              "  }\n",
              "\n",
              "  .colab-df-quickchart-complete:disabled,\n",
              "  .colab-df-quickchart-complete:disabled:hover {\n",
              "    background-color: var(--disabled-bg-color);\n",
              "    fill: var(--disabled-fill-color);\n",
              "    box-shadow: none;\n",
              "  }\n",
              "\n",
              "  .colab-df-spinner {\n",
              "    border: 2px solid var(--fill-color);\n",
              "    border-color: transparent;\n",
              "    border-bottom-color: var(--fill-color);\n",
              "    animation:\n",
              "      spin 1s steps(1) infinite;\n",
              "  }\n",
              "\n",
              "  @keyframes spin {\n",
              "    0% {\n",
              "      border-color: transparent;\n",
              "      border-bottom-color: var(--fill-color);\n",
              "      border-left-color: var(--fill-color);\n",
              "    }\n",
              "    20% {\n",
              "      border-color: transparent;\n",
              "      border-left-color: var(--fill-color);\n",
              "      border-top-color: var(--fill-color);\n",
              "    }\n",
              "    30% {\n",
              "      border-color: transparent;\n",
              "      border-left-color: var(--fill-color);\n",
              "      border-top-color: var(--fill-color);\n",
              "      border-right-color: var(--fill-color);\n",
              "    }\n",
              "    40% {\n",
              "      border-color: transparent;\n",
              "      border-right-color: var(--fill-color);\n",
              "      border-top-color: var(--fill-color);\n",
              "    }\n",
              "    60% {\n",
              "      border-color: transparent;\n",
              "      border-right-color: var(--fill-color);\n",
              "    }\n",
              "    80% {\n",
              "      border-color: transparent;\n",
              "      border-right-color: var(--fill-color);\n",
              "      border-bottom-color: var(--fill-color);\n",
              "    }\n",
              "    90% {\n",
              "      border-color: transparent;\n",
              "      border-bottom-color: var(--fill-color);\n",
              "    }\n",
              "  }\n",
              "</style>\n",
              "\n",
              "  <script>\n",
              "    async function quickchart(key) {\n",
              "      const quickchartButtonEl =\n",
              "        document.querySelector('#' + key + ' button');\n",
              "      quickchartButtonEl.disabled = true;  // To prevent multiple clicks.\n",
              "      quickchartButtonEl.classList.add('colab-df-spinner');\n",
              "      try {\n",
              "        const charts = await google.colab.kernel.invokeFunction(\n",
              "            'suggestCharts', [key], {});\n",
              "      } catch (error) {\n",
              "        console.error('Error during call to suggestCharts:', error);\n",
              "      }\n",
              "      quickchartButtonEl.classList.remove('colab-df-spinner');\n",
              "      quickchartButtonEl.classList.add('colab-df-quickchart-complete');\n",
              "    }\n",
              "    (() => {\n",
              "      let quickchartButtonEl =\n",
              "        document.querySelector('#df-3f43c8b9-86e2-48d4-a70b-40f21094c511 button');\n",
              "      quickchartButtonEl.style.display =\n",
              "        google.colab.kernel.accessAllowed ? 'block' : 'none';\n",
              "    })();\n",
              "  </script>\n",
              "</div>\n",
              "\n",
              "    </div>\n",
              "  </div>\n"
            ],
            "application/vnd.google.colaboratory.intrinsic+json": {
              "type": "dataframe",
              "variable_name": "user_data",
              "summary": "{\n  \"name\": \"user_data\",\n  \"rows\": 12000,\n  \"fields\": [\n    {\n      \"column\": \"object_id\",\n      \"properties\": {\n        \"dtype\": \"number\",\n        \"std\": 3464,\n        \"min\": 1,\n        \"max\": 12000,\n        \"num_unique_values\": 12000,\n        \"samples\": [\n          1936,\n          6495,\n          1721\n        ],\n        \"semantic_type\": \"\",\n        \"description\": \"\"\n      }\n    },\n    {\n      \"column\": \"creation_time\",\n      \"properties\": {\n        \"dtype\": \"object\",\n        \"num_unique_values\": 11996,\n        \"samples\": [\n          \"2013-02-12 13:23:43\",\n          \"2013-02-16 01:32:28\",\n          \"2013-06-02 16:34:12\"\n        ],\n        \"semantic_type\": \"\",\n        \"description\": \"\"\n      }\n    },\n    {\n      \"column\": \"name\",\n      \"properties\": {\n        \"dtype\": \"string\",\n        \"num_unique_values\": 11355,\n        \"samples\": [\n          \"Christiansen Bent\",\n          \"Higley Christopher\",\n          \"Train Aidan\"\n        ],\n        \"semantic_type\": \"\",\n        \"description\": \"\"\n      }\n    },\n    {\n      \"column\": \"email\",\n      \"properties\": {\n        \"dtype\": \"string\",\n        \"num_unique_values\": 11980,\n        \"samples\": [\n          \"SamanthaClarke@gmail.com\",\n          \"xdusgyds@hgkij.com\",\n          \"LisaFruehauf@gmail.com\"\n        ],\n        \"semantic_type\": \"\",\n        \"description\": \"\"\n      }\n    },\n    {\n      \"column\": \"creation_source\",\n      \"properties\": {\n        \"dtype\": \"category\",\n        \"num_unique_values\": 5,\n        \"samples\": [\n          \"ORG_INVITE\",\n          \"SIGNUP_GOOGLE_AUTH\",\n          \"SIGNUP\"\n        ],\n        \"semantic_type\": \"\",\n        \"description\": \"\"\n      }\n    },\n    {\n      \"column\": \"last_session_creation_time\",\n      \"properties\": {\n        \"dtype\": \"number\",\n        \"std\": 19531160.787043978,\n        \"min\": 1338452406.0,\n        \"max\": 1402066730.0,\n        \"num_unique_values\": 8821,\n        \"samples\": [\n          1340000786.0,\n          1379320190.0,\n          1401502899.0\n        ],\n        \"semantic_type\": \"\",\n        \"description\": \"\"\n      }\n    },\n    {\n      \"column\": \"opted_in_to_mailing_list\",\n      \"properties\": {\n        \"dtype\": \"number\",\n        \"std\": 0,\n        \"min\": 0,\n        \"max\": 1,\n        \"num_unique_values\": 2,\n        \"samples\": [\n          0,\n          1\n        ],\n        \"semantic_type\": \"\",\n        \"description\": \"\"\n      }\n    },\n    {\n      \"column\": \"enabled_for_marketing_drip\",\n      \"properties\": {\n        \"dtype\": \"number\",\n        \"std\": 0,\n        \"min\": 0,\n        \"max\": 1,\n        \"num_unique_values\": 2,\n        \"samples\": [\n          1,\n          0\n        ],\n        \"semantic_type\": \"\",\n        \"description\": \"\"\n      }\n    },\n    {\n      \"column\": \"org_id\",\n      \"properties\": {\n        \"dtype\": \"number\",\n        \"std\": 124,\n        \"min\": 0,\n        \"max\": 416,\n        \"num_unique_values\": 417,\n        \"samples\": [\n          198,\n          407\n        ],\n        \"semantic_type\": \"\",\n        \"description\": \"\"\n      }\n    },\n    {\n      \"column\": \"invited_by_user_id\",\n      \"properties\": {\n        \"dtype\": \"number\",\n        \"std\": 3383.7619678015885,\n        \"min\": 3.0,\n        \"max\": 11999.0,\n        \"num_unique_values\": 2564,\n        \"samples\": [\n          1877.0,\n          10730.0\n        ],\n        \"semantic_type\": \"\",\n        \"description\": \"\"\n      }\n    }\n  ]\n}"
            }
          },
          "metadata": {},
          "execution_count": 99
        }
      ]
    },
    {
      "cell_type": "code",
      "source": [
        "user_data.info()"
      ],
      "metadata": {
        "colab": {
          "base_uri": "https://localhost:8080/"
        },
        "id": "ZeywrZhhBy4f",
        "outputId": "6de15649-fcb8-4a95-92e8-eb0d67e595f8"
      },
      "execution_count": 100,
      "outputs": [
        {
          "output_type": "stream",
          "name": "stdout",
          "text": [
            "<class 'pandas.core.frame.DataFrame'>\n",
            "RangeIndex: 12000 entries, 0 to 11999\n",
            "Data columns (total 10 columns):\n",
            " #   Column                      Non-Null Count  Dtype  \n",
            "---  ------                      --------------  -----  \n",
            " 0   object_id                   12000 non-null  int64  \n",
            " 1   creation_time               12000 non-null  object \n",
            " 2   name                        12000 non-null  object \n",
            " 3   email                       12000 non-null  object \n",
            " 4   creation_source             12000 non-null  object \n",
            " 5   last_session_creation_time  8823 non-null   float64\n",
            " 6   opted_in_to_mailing_list    12000 non-null  int64  \n",
            " 7   enabled_for_marketing_drip  12000 non-null  int64  \n",
            " 8   org_id                      12000 non-null  int64  \n",
            " 9   invited_by_user_id          6417 non-null   float64\n",
            "dtypes: float64(2), int64(4), object(4)\n",
            "memory usage: 937.6+ KB\n"
          ]
        }
      ]
    },
    {
      "cell_type": "code",
      "source": [
        "engagement_data.head()"
      ],
      "metadata": {
        "colab": {
          "base_uri": "https://localhost:8080/",
          "height": 206
        },
        "id": "8dicxJNdBmHE",
        "outputId": "8f25b4c6-8d0e-49c2-ae62-bd4cefa82db0"
      },
      "execution_count": 101,
      "outputs": [
        {
          "output_type": "execute_result",
          "data": {
            "text/plain": [
              "            time_stamp  user_id  visited\n",
              "0  2014-04-22 03:53:30        1        1\n",
              "1  2013-11-15 03:45:04        2        1\n",
              "2  2013-11-29 03:45:04        2        1\n",
              "3  2013-12-09 03:45:04        2        1\n",
              "4  2013-12-25 03:45:04        2        1"
            ],
            "text/html": [
              "\n",
              "  <div id=\"df-15ba4431-a5bb-4e07-ba8d-a01e075b6882\" class=\"colab-df-container\">\n",
              "    <div>\n",
              "<style scoped>\n",
              "    .dataframe tbody tr th:only-of-type {\n",
              "        vertical-align: middle;\n",
              "    }\n",
              "\n",
              "    .dataframe tbody tr th {\n",
              "        vertical-align: top;\n",
              "    }\n",
              "\n",
              "    .dataframe thead th {\n",
              "        text-align: right;\n",
              "    }\n",
              "</style>\n",
              "<table border=\"1\" class=\"dataframe\">\n",
              "  <thead>\n",
              "    <tr style=\"text-align: right;\">\n",
              "      <th></th>\n",
              "      <th>time_stamp</th>\n",
              "      <th>user_id</th>\n",
              "      <th>visited</th>\n",
              "    </tr>\n",
              "  </thead>\n",
              "  <tbody>\n",
              "    <tr>\n",
              "      <th>0</th>\n",
              "      <td>2014-04-22 03:53:30</td>\n",
              "      <td>1</td>\n",
              "      <td>1</td>\n",
              "    </tr>\n",
              "    <tr>\n",
              "      <th>1</th>\n",
              "      <td>2013-11-15 03:45:04</td>\n",
              "      <td>2</td>\n",
              "      <td>1</td>\n",
              "    </tr>\n",
              "    <tr>\n",
              "      <th>2</th>\n",
              "      <td>2013-11-29 03:45:04</td>\n",
              "      <td>2</td>\n",
              "      <td>1</td>\n",
              "    </tr>\n",
              "    <tr>\n",
              "      <th>3</th>\n",
              "      <td>2013-12-09 03:45:04</td>\n",
              "      <td>2</td>\n",
              "      <td>1</td>\n",
              "    </tr>\n",
              "    <tr>\n",
              "      <th>4</th>\n",
              "      <td>2013-12-25 03:45:04</td>\n",
              "      <td>2</td>\n",
              "      <td>1</td>\n",
              "    </tr>\n",
              "  </tbody>\n",
              "</table>\n",
              "</div>\n",
              "    <div class=\"colab-df-buttons\">\n",
              "\n",
              "  <div class=\"colab-df-container\">\n",
              "    <button class=\"colab-df-convert\" onclick=\"convertToInteractive('df-15ba4431-a5bb-4e07-ba8d-a01e075b6882')\"\n",
              "            title=\"Convert this dataframe to an interactive table.\"\n",
              "            style=\"display:none;\">\n",
              "\n",
              "  <svg xmlns=\"http://www.w3.org/2000/svg\" height=\"24px\" viewBox=\"0 -960 960 960\">\n",
              "    <path d=\"M120-120v-720h720v720H120Zm60-500h600v-160H180v160Zm220 220h160v-160H400v160Zm0 220h160v-160H400v160ZM180-400h160v-160H180v160Zm440 0h160v-160H620v160ZM180-180h160v-160H180v160Zm440 0h160v-160H620v160Z\"/>\n",
              "  </svg>\n",
              "    </button>\n",
              "\n",
              "  <style>\n",
              "    .colab-df-container {\n",
              "      display:flex;\n",
              "      gap: 12px;\n",
              "    }\n",
              "\n",
              "    .colab-df-convert {\n",
              "      background-color: #E8F0FE;\n",
              "      border: none;\n",
              "      border-radius: 50%;\n",
              "      cursor: pointer;\n",
              "      display: none;\n",
              "      fill: #1967D2;\n",
              "      height: 32px;\n",
              "      padding: 0 0 0 0;\n",
              "      width: 32px;\n",
              "    }\n",
              "\n",
              "    .colab-df-convert:hover {\n",
              "      background-color: #E2EBFA;\n",
              "      box-shadow: 0px 1px 2px rgba(60, 64, 67, 0.3), 0px 1px 3px 1px rgba(60, 64, 67, 0.15);\n",
              "      fill: #174EA6;\n",
              "    }\n",
              "\n",
              "    .colab-df-buttons div {\n",
              "      margin-bottom: 4px;\n",
              "    }\n",
              "\n",
              "    [theme=dark] .colab-df-convert {\n",
              "      background-color: #3B4455;\n",
              "      fill: #D2E3FC;\n",
              "    }\n",
              "\n",
              "    [theme=dark] .colab-df-convert:hover {\n",
              "      background-color: #434B5C;\n",
              "      box-shadow: 0px 1px 3px 1px rgba(0, 0, 0, 0.15);\n",
              "      filter: drop-shadow(0px 1px 2px rgba(0, 0, 0, 0.3));\n",
              "      fill: #FFFFFF;\n",
              "    }\n",
              "  </style>\n",
              "\n",
              "    <script>\n",
              "      const buttonEl =\n",
              "        document.querySelector('#df-15ba4431-a5bb-4e07-ba8d-a01e075b6882 button.colab-df-convert');\n",
              "      buttonEl.style.display =\n",
              "        google.colab.kernel.accessAllowed ? 'block' : 'none';\n",
              "\n",
              "      async function convertToInteractive(key) {\n",
              "        const element = document.querySelector('#df-15ba4431-a5bb-4e07-ba8d-a01e075b6882');\n",
              "        const dataTable =\n",
              "          await google.colab.kernel.invokeFunction('convertToInteractive',\n",
              "                                                    [key], {});\n",
              "        if (!dataTable) return;\n",
              "\n",
              "        const docLinkHtml = 'Like what you see? Visit the ' +\n",
              "          '<a target=\"_blank\" href=https://colab.research.google.com/notebooks/data_table.ipynb>data table notebook</a>'\n",
              "          + ' to learn more about interactive tables.';\n",
              "        element.innerHTML = '';\n",
              "        dataTable['output_type'] = 'display_data';\n",
              "        await google.colab.output.renderOutput(dataTable, element);\n",
              "        const docLink = document.createElement('div');\n",
              "        docLink.innerHTML = docLinkHtml;\n",
              "        element.appendChild(docLink);\n",
              "      }\n",
              "    </script>\n",
              "  </div>\n",
              "\n",
              "\n",
              "<div id=\"df-2cf9ef74-9d2b-4876-9a5a-06ee0110bcdf\">\n",
              "  <button class=\"colab-df-quickchart\" onclick=\"quickchart('df-2cf9ef74-9d2b-4876-9a5a-06ee0110bcdf')\"\n",
              "            title=\"Suggest charts\"\n",
              "            style=\"display:none;\">\n",
              "\n",
              "<svg xmlns=\"http://www.w3.org/2000/svg\" height=\"24px\"viewBox=\"0 0 24 24\"\n",
              "     width=\"24px\">\n",
              "    <g>\n",
              "        <path d=\"M19 3H5c-1.1 0-2 .9-2 2v14c0 1.1.9 2 2 2h14c1.1 0 2-.9 2-2V5c0-1.1-.9-2-2-2zM9 17H7v-7h2v7zm4 0h-2V7h2v10zm4 0h-2v-4h2v4z\"/>\n",
              "    </g>\n",
              "</svg>\n",
              "  </button>\n",
              "\n",
              "<style>\n",
              "  .colab-df-quickchart {\n",
              "      --bg-color: #E8F0FE;\n",
              "      --fill-color: #1967D2;\n",
              "      --hover-bg-color: #E2EBFA;\n",
              "      --hover-fill-color: #174EA6;\n",
              "      --disabled-fill-color: #AAA;\n",
              "      --disabled-bg-color: #DDD;\n",
              "  }\n",
              "\n",
              "  [theme=dark] .colab-df-quickchart {\n",
              "      --bg-color: #3B4455;\n",
              "      --fill-color: #D2E3FC;\n",
              "      --hover-bg-color: #434B5C;\n",
              "      --hover-fill-color: #FFFFFF;\n",
              "      --disabled-bg-color: #3B4455;\n",
              "      --disabled-fill-color: #666;\n",
              "  }\n",
              "\n",
              "  .colab-df-quickchart {\n",
              "    background-color: var(--bg-color);\n",
              "    border: none;\n",
              "    border-radius: 50%;\n",
              "    cursor: pointer;\n",
              "    display: none;\n",
              "    fill: var(--fill-color);\n",
              "    height: 32px;\n",
              "    padding: 0;\n",
              "    width: 32px;\n",
              "  }\n",
              "\n",
              "  .colab-df-quickchart:hover {\n",
              "    background-color: var(--hover-bg-color);\n",
              "    box-shadow: 0 1px 2px rgba(60, 64, 67, 0.3), 0 1px 3px 1px rgba(60, 64, 67, 0.15);\n",
              "    fill: var(--button-hover-fill-color);\n",
              "  }\n",
              "\n",
              "  .colab-df-quickchart-complete:disabled,\n",
              "  .colab-df-quickchart-complete:disabled:hover {\n",
              "    background-color: var(--disabled-bg-color);\n",
              "    fill: var(--disabled-fill-color);\n",
              "    box-shadow: none;\n",
              "  }\n",
              "\n",
              "  .colab-df-spinner {\n",
              "    border: 2px solid var(--fill-color);\n",
              "    border-color: transparent;\n",
              "    border-bottom-color: var(--fill-color);\n",
              "    animation:\n",
              "      spin 1s steps(1) infinite;\n",
              "  }\n",
              "\n",
              "  @keyframes spin {\n",
              "    0% {\n",
              "      border-color: transparent;\n",
              "      border-bottom-color: var(--fill-color);\n",
              "      border-left-color: var(--fill-color);\n",
              "    }\n",
              "    20% {\n",
              "      border-color: transparent;\n",
              "      border-left-color: var(--fill-color);\n",
              "      border-top-color: var(--fill-color);\n",
              "    }\n",
              "    30% {\n",
              "      border-color: transparent;\n",
              "      border-left-color: var(--fill-color);\n",
              "      border-top-color: var(--fill-color);\n",
              "      border-right-color: var(--fill-color);\n",
              "    }\n",
              "    40% {\n",
              "      border-color: transparent;\n",
              "      border-right-color: var(--fill-color);\n",
              "      border-top-color: var(--fill-color);\n",
              "    }\n",
              "    60% {\n",
              "      border-color: transparent;\n",
              "      border-right-color: var(--fill-color);\n",
              "    }\n",
              "    80% {\n",
              "      border-color: transparent;\n",
              "      border-right-color: var(--fill-color);\n",
              "      border-bottom-color: var(--fill-color);\n",
              "    }\n",
              "    90% {\n",
              "      border-color: transparent;\n",
              "      border-bottom-color: var(--fill-color);\n",
              "    }\n",
              "  }\n",
              "</style>\n",
              "\n",
              "  <script>\n",
              "    async function quickchart(key) {\n",
              "      const quickchartButtonEl =\n",
              "        document.querySelector('#' + key + ' button');\n",
              "      quickchartButtonEl.disabled = true;  // To prevent multiple clicks.\n",
              "      quickchartButtonEl.classList.add('colab-df-spinner');\n",
              "      try {\n",
              "        const charts = await google.colab.kernel.invokeFunction(\n",
              "            'suggestCharts', [key], {});\n",
              "      } catch (error) {\n",
              "        console.error('Error during call to suggestCharts:', error);\n",
              "      }\n",
              "      quickchartButtonEl.classList.remove('colab-df-spinner');\n",
              "      quickchartButtonEl.classList.add('colab-df-quickchart-complete');\n",
              "    }\n",
              "    (() => {\n",
              "      let quickchartButtonEl =\n",
              "        document.querySelector('#df-2cf9ef74-9d2b-4876-9a5a-06ee0110bcdf button');\n",
              "      quickchartButtonEl.style.display =\n",
              "        google.colab.kernel.accessAllowed ? 'block' : 'none';\n",
              "    })();\n",
              "  </script>\n",
              "</div>\n",
              "\n",
              "    </div>\n",
              "  </div>\n"
            ],
            "application/vnd.google.colaboratory.intrinsic+json": {
              "type": "dataframe",
              "variable_name": "engagement_data"
            }
          },
          "metadata": {},
          "execution_count": 101
        }
      ]
    },
    {
      "cell_type": "code",
      "source": [
        "engagement_data.info()"
      ],
      "metadata": {
        "colab": {
          "base_uri": "https://localhost:8080/"
        },
        "id": "6dnN38t8Bv0m",
        "outputId": "fe54a0d4-2594-449b-d8d0-68aa3ff9c8c6"
      },
      "execution_count": 102,
      "outputs": [
        {
          "output_type": "stream",
          "name": "stdout",
          "text": [
            "<class 'pandas.core.frame.DataFrame'>\n",
            "RangeIndex: 207917 entries, 0 to 207916\n",
            "Data columns (total 3 columns):\n",
            " #   Column      Non-Null Count   Dtype \n",
            "---  ------      --------------   ----- \n",
            " 0   time_stamp  207917 non-null  object\n",
            " 1   user_id     207917 non-null  int64 \n",
            " 2   visited     207917 non-null  int64 \n",
            "dtypes: int64(2), object(1)\n",
            "memory usage: 4.8+ MB\n"
          ]
        }
      ]
    },
    {
      "cell_type": "code",
      "source": [
        "# Convert 'time_stamp' to datetime format\n",
        "engagement_data['time_stamp'] = pd.to_datetime(engagement_data['time_stamp'])"
      ],
      "metadata": {
        "id": "4Y_15CQp-oe9"
      },
      "execution_count": 103,
      "outputs": []
    },
    {
      "cell_type": "code",
      "source": [
        "# Step 1: Identify adopted users\n",
        "# Group by user_id and find distinct login dates\n",
        "engagement_data['login_date'] = engagement_data['time_stamp'].dt.date\n",
        "user_logins = engagement_data.groupby('user_id')['login_date'].nunique().reset_index()"
      ],
      "metadata": {
        "id": "8TKx0--U-ohy"
      },
      "execution_count": 104,
      "outputs": []
    },
    {
      "cell_type": "code",
      "source": [
        "# Define adopted users: at least 3 distinct login days within a 7-day window\n",
        "adopted_users = []\n",
        "\n",
        "for user in engagement_data['user_id'].unique():\n",
        "    user_login_dates = engagement_data[engagement_data['user_id'] == user]['login_date'].sort_values().unique()\n",
        "    for i in range(len(user_login_dates) - 2):\n",
        "        if (user_login_dates[i + 2] - user_login_dates[i]).days <= 7:\n",
        "            adopted_users.append(user)\n",
        "            break"
      ],
      "metadata": {
        "id": "R-8f4qMi-okf"
      },
      "execution_count": 105,
      "outputs": []
    },
    {
      "cell_type": "code",
      "source": [
        "# Create a binary column for adoption\n",
        "user_data['adopted_user'] = user_data['object_id'].apply(lambda x: 1 if x in adopted_users else 0)"
      ],
      "metadata": {
        "id": "eR14HQea-onP"
      },
      "execution_count": 106,
      "outputs": []
    },
    {
      "cell_type": "code",
      "source": [
        "# Creation source and adopted user\n",
        "_ = sns.countplot(x='creation_source', data=user_data, hue='adopted_user')\n",
        "_ = plt.xticks(rotation=90)"
      ],
      "metadata": {
        "colab": {
          "base_uri": "https://localhost:8080/",
          "height": 600
        },
        "id": "rBE6DzrBG5dn",
        "outputId": "d6e7a299-1186-4c7b-cfb9-8a97f74ed490"
      },
      "execution_count": 121,
      "outputs": [
        {
          "output_type": "display_data",
          "data": {
            "text/plain": [
              "<Figure size 640x480 with 1 Axes>"
            ],
            "image/png": "[encoded data removed]"
          },
          "metadata": {}
        }
      ]
    },
    {
      "cell_type": "code",
      "source": [
        "# Step 3: Feature Engineering\n",
        "# Drop missing values\n",
        "user_data['invited_by_user_id'].value_counts(ascending=False, dropna=False)\n",
        "user_data['invited_by_user'] = user_data['invited_by_user_id'].isnull() == False\n",
        "del user_data['invited_by_user_id']\n",
        "user_data.info()"
      ],
      "metadata": {
        "colab": {
          "base_uri": "https://localhost:8080/"
        },
        "id": "BoRrtm0_AlIN",
        "outputId": "2bfdafb7-ab98-4dc2-a363-89e10e4b2af0"
      },
      "execution_count": 107,
      "outputs": [
        {
          "output_type": "stream",
          "name": "stdout",
          "text": [
            "<class 'pandas.core.frame.DataFrame'>\n",
            "RangeIndex: 12000 entries, 0 to 11999\n",
            "Data columns (total 11 columns):\n",
            " #   Column                      Non-Null Count  Dtype  \n",
            "---  ------                      --------------  -----  \n",
            " 0   object_id                   12000 non-null  int64  \n",
            " 1   creation_time               12000 non-null  object \n",
            " 2   name                        12000 non-null  object \n",
            " 3   email                       12000 non-null  object \n",
            " 4   creation_source             12000 non-null  object \n",
            " 5   last_session_creation_time  8823 non-null   float64\n",
            " 6   opted_in_to_mailing_list    12000 non-null  int64  \n",
            " 7   enabled_for_marketing_drip  12000 non-null  int64  \n",
            " 8   org_id                      12000 non-null  int64  \n",
            " 9   adopted_user                12000 non-null  int64  \n",
            " 10  invited_by_user             12000 non-null  bool   \n",
            "dtypes: bool(1), float64(1), int64(5), object(4)\n",
            "memory usage: 949.3+ KB\n"
          ]
        }
      ]
    },
    {
      "cell_type": "code",
      "source": [
        "# Step 2: Merge user and engagement data\n",
        "# Dropping unnecessary columns and merging with user_data\n",
        "merged_data = user_data[['object_id', 'creation_source', 'opted_in_to_mailing_list', 'enabled_for_marketing_drip',\n",
        "                         'org_id', 'invited_by_user', 'adopted_user']]\n",
        "merged_data.columns = ['user_id', 'creation_source', 'opted_in', 'marketing_drip', 'org_id', 'invited_by', 'adopted_user']"
      ],
      "metadata": {
        "id": "rW3je_M_Ah7r"
      },
      "execution_count": 109,
      "outputs": []
    },
    {
      "cell_type": "code",
      "source": [
        "# Convert categorical columns to numeric via one-hot encoding\n",
        "merged_data = pd.get_dummies(merged_data, columns=['creation_source'], drop_first=True)"
      ],
      "metadata": {
        "id": "aumyoNG3CrMT"
      },
      "execution_count": 110,
      "outputs": []
    },
    {
      "cell_type": "code",
      "source": [
        "# Step 4: Build a predictive model"
      ],
      "metadata": {
        "id": "LqK7rLbRAlLJ"
      },
      "execution_count": 122,
      "outputs": []
    },
    {
      "cell_type": "code",
      "source": [
        "# Define X (features) and y (target)\n",
        "X = merged_data.drop(columns=['user_id', 'adopted_user'])\n",
        "y = merged_data['adopted_user']"
      ],
      "metadata": {
        "id": "ooVeowisAlN3"
      },
      "execution_count": 124,
      "outputs": []
    },
    {
      "cell_type": "code",
      "source": [
        "# Split data into train and test sets\n",
        "X_train, X_test, y_train, y_test = train_test_split(X, y, test_size=0.3, stratify=y, random_state=42)"
      ],
      "metadata": {
        "id": "EubRta1VAqrt"
      },
      "execution_count": 125,
      "outputs": []
    },
    {
      "cell_type": "code",
      "source": [
        "# Train a Random Forest classifier\n",
        "clf = RandomForestClassifier(random_state=42, class_weight='balanced')\n",
        "# use CV to tune number of trees\n",
        "params = {'n_estimators': [10, 50, 100, 200]}\n",
        "model = GridSearchCV(clf, params)\n",
        "model.fit(X_train, y_train)\n",
        "print('Best parameters were', model.best_params_)\n",
        "print('Best average precision was', model.best_score_)"
      ],
      "metadata": {
        "colab": {
          "base_uri": "https://localhost:8080/"
        },
        "id": "oAYrPV4xAquk",
        "outputId": "672b9369-b1ed-4f1c-cd83-8aa2e3e80350"
      },
      "execution_count": 127,
      "outputs": [
        {
          "output_type": "stream",
          "name": "stdout",
          "text": [
            "Best parameters were {'n_estimators': 10}\n",
            "Best average precision was 0.7376190476190476\n"
          ]
        }
      ]
    },
    {
      "cell_type": "code",
      "source": [
        "# Predict and evaluate\n",
        "model = RandomForestClassifier(\n",
        "    random_state=42, class_weight='balanced', n_estimators=10\n",
        ")\n",
        "model.fit(X_train, y_train)\n",
        "y_pred = model.predict(X_test)\n",
        "print('Accuracy of test set was', accuracy_score(y_test, y_pred))\n",
        "print(classification_report(y_test, y_pred))"
      ],
      "metadata": {
        "colab": {
          "base_uri": "https://localhost:8080/"
        },
        "id": "ucimC15TAqxM",
        "outputId": "15159ea0-74fb-42fe-ffa7-ddbdb7cee7d4"
      },
      "execution_count": 130,
      "outputs": [
        {
          "output_type": "stream",
          "name": "stdout",
          "text": [
            "Accuracy of test set was 0.7188888888888889\n",
            "              precision    recall  f1-score   support\n",
            "\n",
            "           0       0.86      0.80      0.83      3103\n",
            "           1       0.14      0.21      0.17       497\n",
            "\n",
            "    accuracy                           0.72      3600\n",
            "   macro avg       0.50      0.50      0.50      3600\n",
            "weighted avg       0.76      0.72      0.74      3600\n",
            "\n"
          ]
        }
      ]
    },
    {
      "cell_type": "code",
      "source": [
        "# Step 5: Feature Importance\n",
        "importances = model.feature_importances_\n",
        "indices = np.argsort(importances)[::-1]\n",
        "features = X.columns"
      ],
      "metadata": {
        "id": "Ms_oV-zQAuo2"
      },
      "execution_count": 132,
      "outputs": []
    },
    {
      "cell_type": "code",
      "source": [
        "plt.figure(figsize=(10, 6))\n",
        "plt.title(\"Feature Importances\")\n",
        "plt.barh(range(X.shape[1]), importances[indices], align=\"center\")\n",
        "plt.yticks(range(X.shape[1]), [features[i] for i in indices])\n",
        "plt.show()"
      ],
      "metadata": {
        "colab": {
          "base_uri": "https://localhost:8080/",
          "height": 431
        },
        "id": "kpml7MEpAuru",
        "outputId": "9bced069-9852-4fc3-a1d3-a23b68c26c0e"
      },
      "execution_count": 133,
      "outputs": [
        {
          "output_type": "display_data",
          "data": {
            "text/plain": [
              "<Figure size 1000x600 with 1 Axes>"
            ],
            "image/png": "[encoded data removed]"
          },
          "metadata": {}
        }
      ]
    },
    {
      "cell_type": "markdown",
      "source": [
        "# Summary of Approach:\n",
        "\n",
        "Data Preparation: Loaded both CSV files and converted timestamps.\n",
        "\n",
        "Adopted User Definition: Identified users who logged in on 3 different days within a 7-day period.\n",
        "\n",
        "Feature Engineering: Created binary adoption labels, one-hot encoded categorical features, and prepared the dataset for modeling.\n",
        "\n",
        "Modeling: Built a Random Forest model to predict adoption based on user features.\n",
        "\n",
        "Feature Importance: Displayed the importance of various features in predicting user adoption."
      ],
      "metadata": {
        "id": "kgMVM1SwA0-u"
      }
    }
  ]
}